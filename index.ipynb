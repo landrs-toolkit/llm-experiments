{
 "cells": [
  {
   "cell_type": "code",
   "execution_count": null,
   "metadata": {},
   "outputs": [],
   "source": [
    "#| hide\n",
    "from llm_experiments.core import *"
   ]
  },
  {
   "cell_type": "markdown",
   "metadata": {},
   "source": [
    "# Experiments in using assistive agents for Open Knowledge Network (OKN) construction.\n",
    "\n",
    "> Experiments using ChatGPT, Jupyter, and rdflib for distributed knowledge graph construction based on drone flight data."
   ]
  }
 ],
 "metadata": {
  "kernelspec": {
   "display_name": "Python 3 (ipykernel)",
   "language": "python",
   "name": "python3"
  }
 },
 "nbformat": 4,
 "nbformat_minor": 4
}
