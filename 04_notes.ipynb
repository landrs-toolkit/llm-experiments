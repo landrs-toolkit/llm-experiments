{
 "cells": [
  {
   "cell_type": "markdown",
   "metadata": {},
   "source": [
    "# Notes useful for KG Construction.\n",
    "\n",
    "> Hopefully useful notes a we are exploring ChatGPT to generate code."
   ]
  },
  {
   "cell_type": "markdown",
   "metadata": {},
   "source": [
    "The ChatGPT plugin has the limitation "
   ]
  },
  {
   "cell_type": "markdown",
   "metadata": {},
   "source": [
    "Interesting chat result:\n",
    "\n",
    "```python\n",
    "import rdflib\n",
    "from rdflib import Graph, Literal, RDF, URIRef\n",
    "from rdflib.namespace import XSD\n",
    "\n",
    "# Construct RML mapping\n",
    "g = Graph()\n",
    "\n",
    "# Define namespaces\n",
    "co2 = URIRef('http://example.com/co2#')\n",
    "geo = URIRef('http://www.w3.org/2003/01/geo/wgs84_pos#')\n",
    "sosa = URIRef('http://www.w3.org/ns/sosa/')\n",
    "qudt = URIRef('http://qudt.org/schema/qudt/')\n",
    "dul = URIRef('http://www.ontologydesignpatterns.org/ont/dul/DUL.owl#')\n",
    "\n",
    "# Define mapping\n",
    "for col in ['CO2 (PPM)', ' Latitude', ' Longitude', ' Altitude', ' Air Speed (m/s)', ' Mode', ' Fixed Satellites', ' Available Satellites', 'voltage', 'current', 'level', 'id']:\n",
    "    col_name = col.strip().replace(' ', '_')\n",
    "    predicate = URIRef(co2 + col_name)\n",
    "    g.add((predicate, RDF.type, RDF.Property))\n",
    "    g.add((predicate, RML.reference, Literal(col)))\n",
    "    g.add((predicate, RML.termType, Literal('Literal')))\n",
    "    if col == 'CO2 (PPM)':\n",
    "        g.add((predicate, RML.datatype, XSD.integer))\n",
    "        \n",
    "```"
   ]
  },
  {
   "cell_type": "markdown",
   "metadata": {},
   "source": [
    "We need this bit of RML to define the csv source file name.\n",
    "\n",
    "```\n",
    "rml:logicalSource [\n",
    "        rml:source \"example.csv\";\n",
    "        rml:referenceFormulation ql:CSV;\n",
    "        rml:iterator \"/csv:row\";\n",
    "    ];\n",
    "    \n",
    "```"
   ]
  },
  {
   "cell_type": "markdown",
   "metadata": {},
   "source": [
    "This is the kglab code we need to load.\n",
    "\n",
    "This is the morp-kgc config.\n",
    "```python\n",
    "import os\n",
    "from os.path import dirname\n",
    "\n",
    "cwd = os.path.dirname(os.getcwd())\n",
    "mapping_path = os.path.join(os.path.dirname(os.path.realpath('mappings2.ttl')), 'mappings2.ttl')\n",
    "config = f\"\"\"\n",
    "[SimpleExample]\n",
    "mappings={mapping_path}\n",
    "\"\"\"\n",
    "\n",
    "print(config)\n",
    "```\n",
    "\n",
    "This is how to load the config using KGLab\n",
    "\n",
    "```python\n",
    "# Create KG Object add the namespaces ChatGPT suggested\n",
    "namespaces = {\n",
    "    \"ex\":  \"http://example.com/ontology#\",\n",
    "    }\n",
    "\n",
    "kg = kglab.KnowledgeGraph(\n",
    "    name = \"Sample KG from ChatGPT example for a person data\",\n",
    "    namespaces = namespaces,\n",
    "    )\n",
    "\n",
    "kg.materialize(config);\n",
    "```\n"
   ]
  },
  {
   "cell_type": "markdown",
   "metadata": {},
   "source": [
    "```python\n",
    "# Constructing an RML mapping for the CO2Meter_GPS_iso.csv file\n",
    "\n",
    "rml = '''@prefix rr: <http://www.w3.org/ns/r2rml#> .\n",
    "@prefix rml: <http://semweb.mmlab.be/ns/rml#> .\n",
    "@prefix ql: <http://semweb.mmlab.be/ns/ql#> .\n",
    "@prefix co2: <http://example.com/co2#> .\n",
    "@prefix xsd: <http://www.w3.org/2001/XMLSchema#> .\n",
    "\n",
    "<#CO2Meter_GPS_iso_mapping>\n",
    "    rr:logicalTable [\n",
    "        rml:source \"CO2Meter_GPS_iso.csv\";\n",
    "        rr:tableName \"CO2Meter_GPS_iso.csv\";\n",
    "    ].\n",
    "\n",
    "'''\n",
    "with open('mappings.ttl', 'w') as f:\n",
    "    f.write(rml)\n",
    "```"
   ]
  },
  {
   "cell_type": "code",
   "execution_count": null,
   "metadata": {},
   "outputs": [],
   "source": [
    "#| hide\n",
    "import nbdev; nbdev.nbdev_export()"
   ]
  }
 ],
 "metadata": {
  "kernelspec": {
   "display_name": "Python 3 (ipykernel)",
   "language": "python",
   "name": "python3"
  }
 },
 "nbformat": 4,
 "nbformat_minor": 4
}
